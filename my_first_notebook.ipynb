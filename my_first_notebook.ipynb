{
 "cells": [
  {
   "cell_type": "code",
   "execution_count": 2,
   "metadata": {},
   "outputs": [
    {
     "name": "stdout",
     "output_type": "stream",
     "text": [
      "Hello World!\n",
      "Hi Hi!\n"
     ]
    }
   ],
   "source": [
    "print('Hello World!')\n",
    "\n",
    "greeting = 'Hi Hi!'\n",
    "print(greeting)"
   ]
  },
  {
   "cell_type": "code",
   "execution_count": 3,
   "metadata": {},
   "outputs": [
    {
     "data": {
      "text/plain": [
       "2"
      ]
     },
     "execution_count": 3,
     "metadata": {},
     "output_type": "execute_result"
    }
   ],
   "source": [
    "1+1"
   ]
  },
  {
   "cell_type": "code",
   "execution_count": 5,
   "metadata": {},
   "outputs": [
    {
     "data": {
      "text/plain": [
       "1267650600228229401496703205376"
      ]
     },
     "execution_count": 5,
     "metadata": {},
     "output_type": "execute_result"
    }
   ],
   "source": [
    "2**100"
   ]
  },
  {
   "cell_type": "code",
   "execution_count": 6,
   "metadata": {},
   "outputs": [
    {
     "name": "stdout",
     "output_type": "stream",
     "text": [
      "What's your background?  -f\n",
      "What's your current activity?  /Users/lonilanistea/Library/Jupyter/runtime/kernel-8a604d9d-fd9a-4ada-82f4-c1948df07cce.json\n",
      "Tell me what do you want, please! happy\n",
      "I wish I could happy and be able to provide!\n"
     ]
    }
   ],
   "source": [
    "from sys import argv\n",
    "script, content1, content2 = argv\n",
    "\n",
    "print(\"What's your background? \", content1)\n",
    "print(\"What's your current activity? \", content2)\n",
    "\n",
    "print(\"Tell me what do you want, please!\", end = ' ')\n",
    "wish = input()\n",
    "print(f\"I wish I could {wish} and be able to provide!\")"
   ]
  },
  {
   "cell_type": "code",
   "execution_count": 7,
   "metadata": {},
   "outputs": [
    {
     "name": "stdout",
     "output_type": "stream",
     "text": [
      "What's your background?  -f\n",
      "What's your current activity?  /Users/lonilanistea/Library/Jupyter/runtime/kernel-8a604d9d-fd9a-4ada-82f4-c1948df07cce.json\n"
     ]
    }
   ],
   "source": [
    "script, bio, codeup_ds_student = argv\n",
    "print(\"What's your background? \", content1)\n",
    "print(\"What's your current activity? \", content2)"
   ]
  },
  {
   "cell_type": "code",
   "execution_count": 8,
   "metadata": {},
   "outputs": [
    {
     "ename": "NameError",
     "evalue": "name 'ds' is not defined",
     "output_type": "error",
     "traceback": [
      "\u001b[0;31m---------------------------------------------------------------------------\u001b[0m",
      "\u001b[0;31mNameError\u001b[0m                                 Traceback (most recent call last)",
      "\u001b[0;32m<ipython-input-8-e0a7ba5566cf>\u001b[0m in \u001b[0;36m<module>\u001b[0;34m\u001b[0m\n\u001b[1;32m      1\u001b[0m \u001b[0mscript\u001b[0m\u001b[0;34m,\u001b[0m \u001b[0mcontent1\u001b[0m\u001b[0;34m,\u001b[0m \u001b[0mcontent2\u001b[0m \u001b[0;34m=\u001b[0m \u001b[0margv\u001b[0m\u001b[0;34m\u001b[0m\u001b[0;34m\u001b[0m\u001b[0m\n\u001b[0;32m----> 2\u001b[0;31m \u001b[0mscript\u001b[0m\u001b[0;34m,\u001b[0m \u001b[0mbio\u001b[0m\u001b[0;34m,\u001b[0m \u001b[0mds\u001b[0m\u001b[0;34m\u001b[0m\u001b[0;34m\u001b[0m\u001b[0m\n\u001b[0m",
      "\u001b[0;31mNameError\u001b[0m: name 'ds' is not defined"
     ]
    }
   ],
   "source": [
    "script, content1, content2 = argv\n",
    "script, bio, ds"
   ]
  },
  {
   "cell_type": "code",
   "execution_count": 9,
   "metadata": {},
   "outputs": [
    {
     "name": "stdout",
     "output_type": "stream",
     "text": [
      "What's your background?  -f\n",
      "What's your current activity?  /Users/lonilanistea/Library/Jupyter/runtime/kernel-8a604d9d-fd9a-4ada-82f4-c1948df07cce.json\n"
     ]
    }
   ],
   "source": [
    "script, content1, content2 = argv\n",
    "script, bio, ds = argv\n",
    "print(\"What's your background? \", content1)\n",
    "print(\"What's your current activity? \", content2)"
   ]
  },
  {
   "cell_type": "code",
   "execution_count": null,
   "metadata": {},
   "outputs": [],
   "source": []
  }
 ],
 "metadata": {
  "kernelspec": {
   "display_name": "Python 3",
   "language": "python",
   "name": "python3"
  },
  "language_info": {
   "codemirror_mode": {
    "name": "ipython",
    "version": 3
   },
   "file_extension": ".py",
   "mimetype": "text/x-python",
   "name": "python",
   "nbconvert_exporter": "python",
   "pygments_lexer": "ipython3",
   "version": "3.7.3"
  }
 },
 "nbformat": 4,
 "nbformat_minor": 2
}
