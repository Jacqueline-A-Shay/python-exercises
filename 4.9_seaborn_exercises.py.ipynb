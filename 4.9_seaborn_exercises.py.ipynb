{
 "cells": [
  {
   "cell_type": "code",
   "execution_count": null,
   "metadata": {},
   "outputs": [],
   "source": [
    "Use the iris database to answer the following quesitons:\n",
    "\n",
    "What does the distribution of petal lengths look like?\n",
    "Is there a correlation between petal length and petal width?\n",
    "Would it be reasonable to predict species based on sepal width and sepal length?\n",
    "Which features would be best used to predict species?\n",
    "\n"
   ]
  },
  {
   "cell_type": "code",
   "execution_count": null,
   "metadata": {},
   "outputs": [],
   "source": [
    "Using the lesson as an example, use seaborn's load_dataset function to load the anscombe data set. Use pandas to group the data by the dataset column, and calculate summary statistics for each dataset. What do you notice?\n",
    "\n",
    "Plot the x and y values from the anscombe data. Each dataset should be in a separate column.\n",
    "\n",
    "Load the InsectSprays dataset and read it's documentation. Create a boxplot that shows the effectiveness of the different insect sprays.\n",
    "\n",
    "Load the swiss dataset and read it's documentation. Create visualizations to answer the following questions:\n",
    "\n",
    "Create an attribute named is_catholic that holds a boolean value of whether or not the province is Catholic. (Choose a cutoff point for what constitutes catholic)\n",
    "Does whether or not a province is Catholic influence fertility?\n",
    "What measure correlates most strongly with fertility?\n",
    "Using the chipotle dataset from the previous exercise, create a bar chart that shows the 4 most popular items and the revenue produced by each.\n",
    "\n",
    "Load the sleepstudy data and read it's documentation. Use seaborn to create a line chart of all the individual subject's reaction times and a more prominant line showing the average change in reaction time."
   ]
  }
 ],
 "metadata": {
  "kernelspec": {
   "display_name": "Python 3",
   "language": "python",
   "name": "python3"
  },
  "language_info": {
   "codemirror_mode": {
    "name": "ipython",
    "version": 3
   },
   "file_extension": ".py",
   "mimetype": "text/x-python",
   "name": "python",
   "nbconvert_exporter": "python",
   "pygments_lexer": "ipython3",
   "version": "3.7.3"
  }
 },
 "nbformat": 4,
 "nbformat_minor": 2
}
